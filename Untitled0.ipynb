{
  "nbformat": 4,
  "nbformat_minor": 0,
  "metadata": {
    "colab": {
      "provenance": [],
      "authorship_tag": "ABX9TyMeS2K3tG3gALPH0eFPVJzv",
      "include_colab_link": true
    },
    "kernelspec": {
      "name": "python3",
      "display_name": "Python 3"
    },
    "language_info": {
      "name": "python"
    }
  },
  "cells": [
    {
      "cell_type": "markdown",
      "metadata": {
        "id": "view-in-github",
        "colab_type": "text"
      },
      "source": [
        "<a href=\"https://colab.research.google.com/github/santoshjeergi/DSAPracticeCpp/blob/master/Untitled0.ipynb\" target=\"_parent\"><img src=\"https://colab.research.google.com/assets/colab-badge.svg\" alt=\"Open In Colab\"/></a>"
      ]
    },
    {
      "cell_type": "code",
      "execution_count": null,
      "metadata": {
        "id": "zkeS6IEpFs99"
      },
      "outputs": [],
      "source": []
    },
    {
      "cell_type": "code",
      "source": [
        "import pandas as pd\n",
        "data = [1,2,3,4,5]\n",
        "index = ['a','b','c','d','e']\n",
        "series = pd.Series(data,index)\n",
        "print(series)\n",
        "#df = pd.DataFrame([[1,2,3],[4,5,6],[7,8,9]])\n",
        "df = pd.DataFrame([[1,2,3],[4,5,6],[7,8,9]], columns=['c0','c1','c2'], index=['r0','r1','r2'])\n",
        "print(df)\n"
      ],
      "metadata": {
        "colab": {
          "base_uri": "https://localhost:8080/"
        },
        "id": "D9CdRvnkFwOE",
        "outputId": "0fded809-2ac9-4191-ff3d-f23167bd492d"
      },
      "execution_count": 7,
      "outputs": [
        {
          "output_type": "stream",
          "name": "stdout",
          "text": [
            "a    1\n",
            "b    2\n",
            "c    3\n",
            "d    4\n",
            "e    5\n",
            "dtype: int64\n",
            "    c0  c1  c2\n",
            "r0   1   2   3\n",
            "r1   4   5   6\n",
            "r2   7   8   9\n"
          ]
        }
      ]
    },
    {
      "cell_type": "code",
      "source": [],
      "metadata": {
        "id": "zZ_ODTyZF9QC"
      },
      "execution_count": null,
      "outputs": []
    }
  ]
}